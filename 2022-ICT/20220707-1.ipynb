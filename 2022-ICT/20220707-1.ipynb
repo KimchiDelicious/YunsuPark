{
 "cells": [
  {
   "cell_type": "code",
   "execution_count": 3,
   "id": "288c044d",
   "metadata": {},
   "outputs": [],
   "source": [
    "import openpyxl as oxl\n",
    "from openpyxl import Workbook, load_workbook"
   ]
  },
  {
   "cell_type": "code",
   "execution_count": 5,
   "id": "ec7fbcf7",
   "metadata": {},
   "outputs": [
    {
     "name": "stdout",
     "output_type": "stream",
     "text": [
      "['두번째시트', 'Sheet1', '네번째시트']\n"
     ]
    }
   ],
   "source": [
    "wb2 = load_workbook('주소록.xlsx')\n",
    "print(wb2.sheetnames)"
   ]
  },
  {
   "cell_type": "code",
   "execution_count": 6,
   "id": "f0b42b1a",
   "metadata": {},
   "outputs": [],
   "source": [
    "ws = wb2['두번째시트']"
   ]
  },
  {
   "cell_type": "code",
   "execution_count": 8,
   "id": "e8951725",
   "metadata": {},
   "outputs": [
    {
     "data": {
      "text/plain": [
       "<generator object Worksheet._cells_by_row at 0x0000024567293580>"
      ]
     },
     "execution_count": 8,
     "metadata": {},
     "output_type": "execute_result"
    }
   ],
   "source": [
    "ws.iter_rows()"
   ]
  },
  {
   "cell_type": "code",
   "execution_count": 13,
   "id": "e2c2b7d3",
   "metadata": {},
   "outputs": [
    {
     "name": "stdout",
     "output_type": "stream",
     "text": [
      "<Cell '두번째시트'.A1> 이름\n",
      "<Cell '두번째시트'.A2> 홍길동\n",
      "<Cell '두번째시트'.A3> 김길동\n",
      "<Cell '두번째시트'.A4> 박윤수\n",
      "<Cell '두번째시트'.B1> 전화번호\n",
      "<Cell '두번째시트'.B2> 02-302-3333\n",
      "<Cell '두번째시트'.B3> 010-222-3334\n",
      "<Cell '두번째시트'.B4> 010-0000-0000\n",
      "<Cell '두번째시트'.C1> 주소\n",
      "<Cell '두번째시트'.C2> 한양\n",
      "<Cell '두번째시트'.C3> 서울\n",
      "<Cell '두번째시트'.C4> 광주\n"
     ]
    }
   ],
   "source": [
    "for col in ws.iter_cols():\n",
    "    for call in col:\n",
    "        print(call, call.value)"
   ]
  },
  {
   "cell_type": "markdown",
   "id": "c4a37700",
   "metadata": {},
   "source": [
    "### Pandas 이용한 내용 읽기"
   ]
  },
  {
   "cell_type": "code",
   "execution_count": 16,
   "id": "8083be10",
   "metadata": {},
   "outputs": [],
   "source": [
    "import pandas as pd"
   ]
  },
  {
   "cell_type": "markdown",
   "id": "7577a867",
   "metadata": {},
   "source": [
    "### numpy"
   ]
  },
  {
   "cell_type": "code",
   "execution_count": 20,
   "id": "062e7a93",
   "metadata": {},
   "outputs": [
    {
     "data": {
      "text/html": [
       "<div>\n",
       "<style scoped>\n",
       "    .dataframe tbody tr th:only-of-type {\n",
       "        vertical-align: middle;\n",
       "    }\n",
       "\n",
       "    .dataframe tbody tr th {\n",
       "        vertical-align: top;\n",
       "    }\n",
       "\n",
       "    .dataframe thead th {\n",
       "        text-align: right;\n",
       "    }\n",
       "</style>\n",
       "<table border=\"1\" class=\"dataframe\">\n",
       "  <thead>\n",
       "    <tr style=\"text-align: right;\">\n",
       "      <th></th>\n",
       "      <th>이름</th>\n",
       "      <th>전화번호</th>\n",
       "      <th>주소</th>\n",
       "    </tr>\n",
       "  </thead>\n",
       "  <tbody>\n",
       "    <tr>\n",
       "      <th>0</th>\n",
       "      <td>홍길동</td>\n",
       "      <td>02-302-3333</td>\n",
       "      <td>한양</td>\n",
       "    </tr>\n",
       "    <tr>\n",
       "      <th>1</th>\n",
       "      <td>김길동</td>\n",
       "      <td>010-222-3334</td>\n",
       "      <td>서울</td>\n",
       "    </tr>\n",
       "    <tr>\n",
       "      <th>2</th>\n",
       "      <td>박윤수</td>\n",
       "      <td>010-0000-0000</td>\n",
       "      <td>광주</td>\n",
       "    </tr>\n",
       "  </tbody>\n",
       "</table>\n",
       "</div>"
      ],
      "text/plain": [
       "    이름           전화번호  주소\n",
       "0  홍길동    02-302-3333  한양\n",
       "1  김길동   010-222-3334  서울\n",
       "2  박윤수  010-0000-0000  광주"
      ]
     },
     "execution_count": 20,
     "metadata": {},
     "output_type": "execute_result"
    }
   ],
   "source": [
    "dat = pd.read_excel(\"주소록.xlsx\")\n",
    "dat"
   ]
  },
  {
   "cell_type": "code",
   "execution_count": 19,
   "id": "c2db26fe",
   "metadata": {},
   "outputs": [
    {
     "data": {
      "text/html": [
       "<div>\n",
       "<style scoped>\n",
       "    .dataframe tbody tr th:only-of-type {\n",
       "        vertical-align: middle;\n",
       "    }\n",
       "\n",
       "    .dataframe tbody tr th {\n",
       "        vertical-align: top;\n",
       "    }\n",
       "\n",
       "    .dataframe thead th {\n",
       "        text-align: right;\n",
       "    }\n",
       "</style>\n",
       "<table border=\"1\" class=\"dataframe\">\n",
       "  <thead>\n",
       "    <tr style=\"text-align: right;\">\n",
       "      <th></th>\n",
       "      <th>이름</th>\n",
       "      <th>전화번호</th>\n",
       "      <th>주소</th>\n",
       "    </tr>\n",
       "  </thead>\n",
       "  <tbody>\n",
       "    <tr>\n",
       "      <th>0</th>\n",
       "      <td>홍길동</td>\n",
       "      <td>02-302-3333</td>\n",
       "      <td>한양</td>\n",
       "    </tr>\n",
       "    <tr>\n",
       "      <th>1</th>\n",
       "      <td>김길동</td>\n",
       "      <td>010-222-3334</td>\n",
       "      <td>서울</td>\n",
       "    </tr>\n",
       "    <tr>\n",
       "      <th>2</th>\n",
       "      <td>박윤수</td>\n",
       "      <td>010-0000-0000</td>\n",
       "      <td>광주</td>\n",
       "    </tr>\n",
       "  </tbody>\n",
       "</table>\n",
       "</div>"
      ],
      "text/plain": [
       "    이름           전화번호  주소\n",
       "0  홍길동    02-302-3333  한양\n",
       "1  김길동   010-222-3334  서울\n",
       "2  박윤수  010-0000-0000  광주"
      ]
     },
     "execution_count": 19,
     "metadata": {},
     "output_type": "execute_result"
    }
   ],
   "source": [
    "dat = pd.read_excel(\"주소록.xlsx\", sheet_name='두번째시트')\n",
    "dat"
   ]
  },
  {
   "cell_type": "code",
   "execution_count": 26,
   "id": "ea09cf7a",
   "metadata": {},
   "outputs": [
    {
     "name": "stdout",
     "output_type": "stream",
     "text": [
      "3\n",
      "(0, 이름              홍길동\n",
      "전화번호    02-302-3333\n",
      "주소               한양\n",
      "Name: 0, dtype: object)\n",
      "이름              홍길동\n",
      "전화번호    02-302-3333\n",
      "주소               한양\n",
      "Name: 0, dtype: object\n"
     ]
    }
   ],
   "source": [
    "a = list(dat.iterrows())\n",
    "print(len(a))\n",
    "print(a[0])\n",
    "print(a[0][1])"
   ]
  },
  {
   "cell_type": "code",
   "execution_count": 27,
   "id": "79e3a754",
   "metadata": {},
   "outputs": [
    {
     "name": "stdout",
     "output_type": "stream",
     "text": [
      "0 홍길동 02-302-3333\n",
      "1 김길동 010-222-3334\n",
      "2 박윤수 010-0000-0000\n"
     ]
    }
   ],
   "source": [
    "for idx, row in dat.iterrows():\n",
    "    print(idx, row[0], row[1])"
   ]
  },
  {
   "cell_type": "code",
   "execution_count": 28,
   "id": "00c2d29b",
   "metadata": {},
   "outputs": [],
   "source": [
    "dat_ori = dat.copy()"
   ]
  },
  {
   "cell_type": "code",
   "execution_count": 31,
   "id": "407194db",
   "metadata": {},
   "outputs": [
    {
     "data": {
      "text/html": [
       "<div>\n",
       "<style scoped>\n",
       "    .dataframe tbody tr th:only-of-type {\n",
       "        vertical-align: middle;\n",
       "    }\n",
       "\n",
       "    .dataframe tbody tr th {\n",
       "        vertical-align: top;\n",
       "    }\n",
       "\n",
       "    .dataframe thead th {\n",
       "        text-align: right;\n",
       "    }\n",
       "</style>\n",
       "<table border=\"1\" class=\"dataframe\">\n",
       "  <thead>\n",
       "    <tr style=\"text-align: right;\">\n",
       "      <th></th>\n",
       "      <th>이름</th>\n",
       "      <th>전화번호</th>\n",
       "      <th>주소</th>\n",
       "    </tr>\n",
       "  </thead>\n",
       "  <tbody>\n",
       "    <tr>\n",
       "      <th>0</th>\n",
       "      <td>홍길동</td>\n",
       "      <td>02-302-3333</td>\n",
       "      <td>한양</td>\n",
       "    </tr>\n",
       "    <tr>\n",
       "      <th>1</th>\n",
       "      <td>김길동</td>\n",
       "      <td>010-222-3334</td>\n",
       "      <td>서울</td>\n",
       "    </tr>\n",
       "    <tr>\n",
       "      <th>2</th>\n",
       "      <td>박윤수</td>\n",
       "      <td>010-0000-0000</td>\n",
       "      <td>광주</td>\n",
       "    </tr>\n",
       "  </tbody>\n",
       "</table>\n",
       "</div>"
      ],
      "text/plain": [
       "    이름           전화번호  주소\n",
       "0  홍길동    02-302-3333  한양\n",
       "1  김길동   010-222-3334  서울\n",
       "2  박윤수  010-0000-0000  광주"
      ]
     },
     "execution_count": 31,
     "metadata": {},
     "output_type": "execute_result"
    }
   ],
   "source": [
    "dat"
   ]
  },
  {
   "cell_type": "code",
   "execution_count": 32,
   "id": "3bdfa1ab",
   "metadata": {},
   "outputs": [
    {
     "data": {
      "text/html": [
       "<div>\n",
       "<style scoped>\n",
       "    .dataframe tbody tr th:only-of-type {\n",
       "        vertical-align: middle;\n",
       "    }\n",
       "\n",
       "    .dataframe tbody tr th {\n",
       "        vertical-align: top;\n",
       "    }\n",
       "\n",
       "    .dataframe thead th {\n",
       "        text-align: right;\n",
       "    }\n",
       "</style>\n",
       "<table border=\"1\" class=\"dataframe\">\n",
       "  <thead>\n",
       "    <tr style=\"text-align: right;\">\n",
       "      <th></th>\n",
       "      <th>이름</th>\n",
       "      <th>전화번호</th>\n",
       "      <th>주소</th>\n",
       "      <th>전화번호 체크</th>\n",
       "    </tr>\n",
       "  </thead>\n",
       "  <tbody>\n",
       "    <tr>\n",
       "      <th>0</th>\n",
       "      <td>홍길동</td>\n",
       "      <td>02-302-3333</td>\n",
       "      <td>한양</td>\n",
       "      <td>OK</td>\n",
       "    </tr>\n",
       "    <tr>\n",
       "      <th>1</th>\n",
       "      <td>김길동</td>\n",
       "      <td>010-222-3334</td>\n",
       "      <td>서울</td>\n",
       "      <td>OK</td>\n",
       "    </tr>\n",
       "    <tr>\n",
       "      <th>2</th>\n",
       "      <td>박윤수</td>\n",
       "      <td>010-0000-0000</td>\n",
       "      <td>광주</td>\n",
       "      <td>OK</td>\n",
       "    </tr>\n",
       "  </tbody>\n",
       "</table>\n",
       "</div>"
      ],
      "text/plain": [
       "    이름           전화번호  주소 전화번호 체크\n",
       "0  홍길동    02-302-3333  한양      OK\n",
       "1  김길동   010-222-3334  서울      OK\n",
       "2  박윤수  010-0000-0000  광주      OK"
      ]
     },
     "execution_count": 32,
     "metadata": {},
     "output_type": "execute_result"
    }
   ],
   "source": [
    "dat.loc[dat['전화번호'].isnull(), '전화번호 체크'] = 'NOK'\n",
    "dat.loc[dat['전화번호'].notnull(), '전화번호 체크'] = 'OK'\n",
    "dat"
   ]
  },
  {
   "cell_type": "code",
   "execution_count": 39,
   "id": "684eff21",
   "metadata": {},
   "outputs": [
    {
     "data": {
      "text/html": [
       "<div>\n",
       "<style scoped>\n",
       "    .dataframe tbody tr th:only-of-type {\n",
       "        vertical-align: middle;\n",
       "    }\n",
       "\n",
       "    .dataframe tbody tr th {\n",
       "        vertical-align: top;\n",
       "    }\n",
       "\n",
       "    .dataframe thead th {\n",
       "        text-align: right;\n",
       "    }\n",
       "</style>\n",
       "<table border=\"1\" class=\"dataframe\">\n",
       "  <thead>\n",
       "    <tr style=\"text-align: right;\">\n",
       "      <th></th>\n",
       "      <th>이름</th>\n",
       "      <th>전화번호</th>\n",
       "      <th>주소</th>\n",
       "      <th>전화번호 체크</th>\n",
       "    </tr>\n",
       "  </thead>\n",
       "  <tbody>\n",
       "    <tr>\n",
       "      <th>0</th>\n",
       "      <td>홍길동</td>\n",
       "      <td>02-302-3333</td>\n",
       "      <td>한양</td>\n",
       "      <td>NOK</td>\n",
       "    </tr>\n",
       "    <tr>\n",
       "      <th>1</th>\n",
       "      <td>김길동</td>\n",
       "      <td>010-222-3334</td>\n",
       "      <td>서울</td>\n",
       "      <td>OK</td>\n",
       "    </tr>\n",
       "    <tr>\n",
       "      <th>2</th>\n",
       "      <td>박윤수</td>\n",
       "      <td>010-0000-0000</td>\n",
       "      <td>광주</td>\n",
       "      <td>OK</td>\n",
       "    </tr>\n",
       "  </tbody>\n",
       "</table>\n",
       "</div>"
      ],
      "text/plain": [
       "    이름           전화번호  주소 전화번호 체크\n",
       "0  홍길동    02-302-3333  한양     NOK\n",
       "1  김길동   010-222-3334  서울      OK\n",
       "2  박윤수  010-0000-0000  광주      OK"
      ]
     },
     "execution_count": 39,
     "metadata": {},
     "output_type": "execute_result"
    }
   ],
   "source": [
    "iff=(dat['전화번호'].str.len()==12) | (dat['전화번호'].str.len()==13)\n",
    "dat.loc[iff, '전화번호 체크'] = 'OK'\n",
    "dat.loc[~iff, '전화번호 체크'] = 'NOK'\n",
    "dat"
   ]
  },
  {
   "cell_type": "code",
   "execution_count": 42,
   "id": "0f64d104",
   "metadata": {},
   "outputs": [],
   "source": [
    "ch_tel = dat['전화번호'].str.contains('\\d{2,3}-\\d{3}-\\d{4}')"
   ]
  },
  {
   "cell_type": "code",
   "execution_count": 43,
   "id": "a66c4fe7",
   "metadata": {},
   "outputs": [
    {
     "data": {
      "text/html": [
       "<div>\n",
       "<style scoped>\n",
       "    .dataframe tbody tr th:only-of-type {\n",
       "        vertical-align: middle;\n",
       "    }\n",
       "\n",
       "    .dataframe tbody tr th {\n",
       "        vertical-align: top;\n",
       "    }\n",
       "\n",
       "    .dataframe thead th {\n",
       "        text-align: right;\n",
       "    }\n",
       "</style>\n",
       "<table border=\"1\" class=\"dataframe\">\n",
       "  <thead>\n",
       "    <tr style=\"text-align: right;\">\n",
       "      <th></th>\n",
       "      <th>이름</th>\n",
       "      <th>전화번호</th>\n",
       "      <th>주소</th>\n",
       "      <th>전화번호 체크</th>\n",
       "    </tr>\n",
       "  </thead>\n",
       "  <tbody>\n",
       "    <tr>\n",
       "      <th>0</th>\n",
       "      <td>홍길동</td>\n",
       "      <td>02-302-3333</td>\n",
       "      <td>한양</td>\n",
       "      <td>OK</td>\n",
       "    </tr>\n",
       "    <tr>\n",
       "      <th>1</th>\n",
       "      <td>김길동</td>\n",
       "      <td>010-222-3334</td>\n",
       "      <td>서울</td>\n",
       "      <td>OK</td>\n",
       "    </tr>\n",
       "    <tr>\n",
       "      <th>2</th>\n",
       "      <td>박윤수</td>\n",
       "      <td>010-0000-0000</td>\n",
       "      <td>광주</td>\n",
       "      <td>NOK</td>\n",
       "    </tr>\n",
       "  </tbody>\n",
       "</table>\n",
       "</div>"
      ],
      "text/plain": [
       "    이름           전화번호  주소 전화번호 체크\n",
       "0  홍길동    02-302-3333  한양      OK\n",
       "1  김길동   010-222-3334  서울      OK\n",
       "2  박윤수  010-0000-0000  광주     NOK"
      ]
     },
     "execution_count": 43,
     "metadata": {},
     "output_type": "execute_result"
    }
   ],
   "source": [
    "dat.loc[ch_tel, '전화번호 체크'] = 'OK'\n",
    "dat.loc[~ch_tel, '전화번호 체크'] = 'NOK'\n",
    "dat"
   ]
  },
  {
   "cell_type": "code",
   "execution_count": 46,
   "id": "e24a6860",
   "metadata": {},
   "outputs": [],
   "source": [
    "writer = pd.ExcelWriter('주소록_chk.xlsx', engine='openpyxl')\n",
    "dat_ori.to_excel(writer, sheet_name='sheet_ori', index=False)\n",
    "dat.to_excel(writer, sheet_name='sheet_chk', index=False)\n",
    "writer.save()"
   ]
  },
  {
   "cell_type": "code",
   "execution_count": null,
   "id": "a06a729f",
   "metadata": {},
   "outputs": [],
   "source": []
  }
 ],
 "metadata": {
  "kernelspec": {
   "display_name": "Python 3",
   "language": "python",
   "name": "python3"
  },
  "language_info": {
   "codemirror_mode": {
    "name": "ipython",
    "version": 3
   },
   "file_extension": ".py",
   "mimetype": "text/x-python",
   "name": "python",
   "nbconvert_exporter": "python",
   "pygments_lexer": "ipython3",
   "version": "3.8.8"
  }
 },
 "nbformat": 4,
 "nbformat_minor": 5
}
