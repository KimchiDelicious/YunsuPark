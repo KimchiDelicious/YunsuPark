{
 "cells": [
  {
   "cell_type": "code",
   "execution_count": 1,
   "metadata": {
    "_cell_guid": "b1076dfc-b9ad-4769-8c92-a6c4dae69d19",
    "_uuid": "8f2839f25d086af736a60e9eeb907d3b93b6e0e5",
    "execution": {
     "iopub.execute_input": "2022-07-11T03:31:12.120820Z",
     "iopub.status.busy": "2022-07-11T03:31:12.120054Z",
     "iopub.status.idle": "2022-07-11T03:31:12.225025Z",
     "shell.execute_reply": "2022-07-11T03:31:12.223537Z",
     "shell.execute_reply.started": "2022-07-11T03:31:12.120695Z"
    }
   },
   "outputs": [],
   "source": [
    "import numpy as np # linear algebra\n",
    "import pandas as pd # data processing, CSV file I/O (e.g. pd.read_csv)\n",
    "\n",
    "import os\n",
    "for dirname, _, filenames in os.walk('/kaggle/input'):\n",
    "    for filename in filenames:\n",
    "        print(os.path.join(dirname, filename))"
   ]
  },
  {
   "cell_type": "code",
   "execution_count": 2,
   "metadata": {
    "execution": {
     "iopub.execute_input": "2022-07-11T03:32:33.837231Z",
     "iopub.status.busy": "2022-07-11T03:32:33.836682Z",
     "iopub.status.idle": "2022-07-11T03:32:33.910617Z",
     "shell.execute_reply": "2022-07-11T03:32:33.909722Z",
     "shell.execute_reply.started": "2022-07-11T03:32:33.837181Z"
    }
   },
   "outputs": [],
   "source": [
    "train = pd.read_csv(\"/kaggle/input/bike-sharing-demand/train.csv\", parse_dates=['datetime'])\n",
    "test = pd.read_csv(\"/kaggle/input/bike-sharing-demand/test.csv\", parse_dates=['datetime'])\n",
    "sub = pd.read_csv(\"/kaggle/input/bike-sharing-demand/sampleSubmission.csv\")"
   ]
  },
  {
   "cell_type": "code",
   "execution_count": 4,
   "metadata": {
    "execution": {
     "iopub.execute_input": "2022-07-11T03:33:14.315634Z",
     "iopub.status.busy": "2022-07-11T03:33:14.315213Z",
     "iopub.status.idle": "2022-07-11T03:33:14.337818Z",
     "shell.execute_reply": "2022-07-11T03:33:14.336521Z",
     "shell.execute_reply.started": "2022-07-11T03:33:14.315600Z"
    }
   },
   "outputs": [],
   "source": [
    "print(train.info())\n",
    "print()\n",
    "print(test.info())"
   ]
  },
  {
   "cell_type": "code",
   "execution_count": 10,
   "metadata": {
    "execution": {
     "iopub.execute_input": "2022-07-11T03:40:24.626255Z",
     "iopub.status.busy": "2022-07-11T03:40:24.625895Z",
     "iopub.status.idle": "2022-07-11T03:40:24.631161Z",
     "shell.execute_reply": "2022-07-11T03:40:24.629744Z",
     "shell.execute_reply.started": "2022-07-11T03:40:24.626224Z"
    }
   },
   "outputs": [],
   "source": [
    "input_col = [ 'weather', 'temp']\n",
    "labeled_col = ['count']"
   ]
  },
  {
   "cell_type": "code",
   "execution_count": 12,
   "metadata": {
    "execution": {
     "iopub.execute_input": "2022-07-11T03:40:27.820495Z",
     "iopub.status.busy": "2022-07-11T03:40:27.820081Z",
     "iopub.status.idle": "2022-07-11T03:40:27.829135Z",
     "shell.execute_reply": "2022-07-11T03:40:27.827749Z",
     "shell.execute_reply.started": "2022-07-11T03:40:27.820464Z"
    }
   },
   "outputs": [],
   "source": [
    "X = train[ input_col ]\n",
    "y = train[ labeled_col ]\n",
    "X_val = test[input_col]"
   ]
  },
  {
   "cell_type": "code",
   "execution_count": 13,
   "metadata": {
    "execution": {
     "iopub.execute_input": "2022-07-11T03:42:45.656345Z",
     "iopub.status.busy": "2022-07-11T03:42:45.655224Z",
     "iopub.status.idle": "2022-07-11T03:42:46.295191Z",
     "shell.execute_reply": "2022-07-11T03:42:46.293998Z",
     "shell.execute_reply.started": "2022-07-11T03:42:45.656292Z"
    }
   },
   "outputs": [],
   "source": [
    "from sklearn.model_selection import train_test_split\n",
    "\n",
    "X_train, X_test, y_train, y_test = train_test_split(X, y, \n",
    "                                                random_state=0)"
   ]
  },
  {
   "cell_type": "code",
   "execution_count": 15,
   "metadata": {
    "execution": {
     "iopub.execute_input": "2022-07-11T03:42:49.725607Z",
     "iopub.status.busy": "2022-07-11T03:42:49.724832Z",
     "iopub.status.idle": "2022-07-11T03:42:49.730737Z",
     "shell.execute_reply": "2022-07-11T03:42:49.729726Z",
     "shell.execute_reply.started": "2022-07-11T03:42:49.725553Z"
    }
   },
   "outputs": [],
   "source": [
    "### 난수 발생 패턴 결정 0\n",
    "seed = 0\n",
    "np.random.seed(seed)"
   ]
  },
  {
   "cell_type": "code",
   "execution_count": 16,
   "metadata": {
    "execution": {
     "iopub.execute_input": "2022-07-11T03:45:03.666715Z",
     "iopub.status.busy": "2022-07-11T03:45:03.666320Z",
     "iopub.status.idle": "2022-07-11T03:45:13.496041Z",
     "shell.execute_reply": "2022-07-11T03:45:13.494686Z",
     "shell.execute_reply.started": "2022-07-11T03:45:03.666683Z"
    }
   },
   "outputs": [],
   "source": [
    "from keras.models import Sequential\n",
    "from keras.layers import Dense"
   ]
  },
  {
   "cell_type": "code",
   "execution_count": 17,
   "metadata": {
    "execution": {
     "iopub.execute_input": "2022-07-11T03:46:10.838269Z",
     "iopub.status.busy": "2022-07-11T03:46:10.836738Z",
     "iopub.status.idle": "2022-07-11T03:46:10.963750Z",
     "shell.execute_reply": "2022-07-11T03:46:10.962946Z",
     "shell.execute_reply.started": "2022-07-11T03:46:10.838223Z"
    }
   },
   "outputs": [],
   "source": [
    "model = Sequential()\n",
    "model.add(Dense(30, input_dim=2, activation='relu'))\n",
    "model.add(Dense(15, activation='relu') )\n",
    "model.add(Dense(15, activation='relu') )\n",
    "model.add(Dense(1))"
   ]
  },
  {
   "cell_type": "code",
   "execution_count": 18,
   "metadata": {
    "execution": {
     "iopub.execute_input": "2022-07-11T03:46:23.316330Z",
     "iopub.status.busy": "2022-07-11T03:46:23.315800Z",
     "iopub.status.idle": "2022-07-11T03:46:23.323787Z",
     "shell.execute_reply": "2022-07-11T03:46:23.322475Z",
     "shell.execute_reply.started": "2022-07-11T03:46:23.316285Z"
    }
   },
   "outputs": [],
   "source": [
    "model.summary()"
   ]
  },
  {
   "cell_type": "code",
   "execution_count": 19,
   "metadata": {
    "execution": {
     "iopub.execute_input": "2022-07-11T03:47:53.761222Z",
     "iopub.status.busy": "2022-07-11T03:47:53.760838Z",
     "iopub.status.idle": "2022-07-11T03:48:20.102702Z",
     "shell.execute_reply": "2022-07-11T03:48:20.101426Z",
     "shell.execute_reply.started": "2022-07-11T03:47:53.761190Z"
    }
   },
   "outputs": [],
   "source": [
    "model.compile(loss = 'mean_squared_error', optimizer='rmsprop')\n",
    "model.fit(X_train, y_train, epochs=20, batch_size=10)"
   ]
  },
  {
   "cell_type": "code",
   "execution_count": 20,
   "metadata": {
    "execution": {
     "iopub.execute_input": "2022-07-11T03:48:23.195477Z",
     "iopub.status.busy": "2022-07-11T03:48:23.195094Z",
     "iopub.status.idle": "2022-07-11T03:48:23.489625Z",
     "shell.execute_reply": "2022-07-11T03:48:23.488496Z",
     "shell.execute_reply.started": "2022-07-11T03:48:23.195447Z"
    }
   },
   "outputs": [],
   "source": [
    "model.evaluate(X_test, y_test)"
   ]
  },
  {
   "cell_type": "code",
   "execution_count": null,
   "metadata": {},
   "outputs": [],
   "source": []
  }
 ],
 "metadata": {
  "kernelspec": {
   "display_name": "Python 3 (ipykernel)",
   "language": "python",
   "name": "python3"
  },
  "language_info": {
   "codemirror_mode": {
    "name": "ipython",
    "version": 3
   },
   "file_extension": ".py",
   "mimetype": "text/x-python",
   "name": "python",
   "nbconvert_exporter": "python",
   "pygments_lexer": "ipython3",
   "version": "3.8.13"
  }
 },
 "nbformat": 4,
 "nbformat_minor": 4
}
