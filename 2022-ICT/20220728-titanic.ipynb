{
 "cells": [
  {
   "cell_type": "code",
   "execution_count": 623,
   "metadata": {
    "_cell_guid": "b1076dfc-b9ad-4769-8c92-a6c4dae69d19",
    "_uuid": "8f2839f25d086af736a60e9eeb907d3b93b6e0e5",
    "execution": {
     "iopub.execute_input": "2022-07-28T03:51:04.593231Z",
     "iopub.status.busy": "2022-07-28T03:51:04.592824Z",
     "iopub.status.idle": "2022-07-28T03:51:04.619995Z",
     "shell.execute_reply": "2022-07-28T03:51:04.619122Z",
     "shell.execute_reply.started": "2022-07-28T03:51:04.593189Z"
    }
   },
   "outputs": [],
   "source": [
    "# This Python 3 environment comes with many helpful analytics libraries installed\n",
    "# It is defined by the kaggle/python Docker image: https://github.com/kaggle/docker-python\n",
    "# For example, here's several helpful packages to load\n",
    "\n",
    "import numpy as np # linear algebra\n",
    "import pandas as pd # data processing, CSV file I/O (e.g. pd.read_csv)\n",
    "\n",
    "# Input data files are available in the read-only \"../input/\" directory\n",
    "# For example, running this (by clicking run or pressing Shift+Enter) will list all files under the input directory\n",
    "\n",
    "import os\n",
    "for dirname, _, filenames in os.walk('/kaggle/input'):\n",
    "    for filename in filenames:\n",
    "        print(os.path.join(dirname, filename))\n",
    "\n",
    "# You can write up to 20GB to the current directory (/kaggle/working/) that gets preserved as output when you create a version using \"Save & Run All\" \n",
    "# You can also write temporary files to /kaggle/temp/, but they won't be saved outside of the current session\n",
    "train = pd.read_csv('/kaggle/input/titanic/train.csv')\n",
    "test = pd.read_csv('/kaggle/input/titanic/test.csv')\n",
    "sub = pd.read_csv('/kaggle/input/titanic/gender_submission.csv')"
   ]
  },
  {
   "cell_type": "markdown",
   "metadata": {},
   "source": [
    "https://ldjwj.github.io/ML_Basic_Class/part03_ml/ch02_03_01_decisionTree_colab.html"
   ]
  },
  {
   "cell_type": "code",
   "execution_count": 624,
   "metadata": {
    "execution": {
     "iopub.execute_input": "2022-07-28T03:51:04.813083Z",
     "iopub.status.busy": "2022-07-28T03:51:04.812318Z",
     "iopub.status.idle": "2022-07-28T03:51:04.818368Z",
     "shell.execute_reply": "2022-07-28T03:51:04.817108Z",
     "shell.execute_reply.started": "2022-07-28T03:51:04.813046Z"
    }
   },
   "outputs": [],
   "source": [
    "from sklearn.tree import DecisionTreeClassifier\n",
    "from sklearn.model_selection import train_test_split"
   ]
  },
  {
   "cell_type": "code",
   "execution_count": 625,
   "metadata": {
    "execution": {
     "iopub.execute_input": "2022-07-28T03:51:04.963242Z",
     "iopub.status.busy": "2022-07-28T03:51:04.962195Z",
     "iopub.status.idle": "2022-07-28T03:51:04.977767Z",
     "shell.execute_reply": "2022-07-28T03:51:04.976547Z",
     "shell.execute_reply.started": "2022-07-28T03:51:04.963201Z"
    }
   },
   "outputs": [],
   "source": [
    "train.info()"
   ]
  },
  {
   "cell_type": "code",
   "execution_count": 626,
   "metadata": {
    "execution": {
     "iopub.execute_input": "2022-07-28T03:51:04.981521Z",
     "iopub.status.busy": "2022-07-28T03:51:04.979761Z",
     "iopub.status.idle": "2022-07-28T03:51:05.000200Z",
     "shell.execute_reply": "2022-07-28T03:51:04.998971Z",
     "shell.execute_reply.started": "2022-07-28T03:51:04.981456Z"
    }
   },
   "outputs": [],
   "source": [
    "dc=['C','Q','S']\n",
    "train.loc[(train['Embarked']==dc[0]) | train['Embarked'].isnull(),'Embarkedm']=0\n",
    "train.loc[(train['Embarked']==dc[1]),'Embarkedm']=1\n",
    "train.loc[(train['Embarked']==dc[2]),'Embarkedm']=2\n",
    "train.head\n",
    "test.loc[(test['Embarked']==dc[0]) | train['Embarked'].isnull(),'Embarkedm']=0\n",
    "test.loc[(test['Embarked']==dc[1]),'Embarkedm']=1\n",
    "test.loc[(test['Embarked']==dc[2]),'Embarkedm']=2"
   ]
  },
  {
   "cell_type": "code",
   "execution_count": 627,
   "metadata": {
    "execution": {
     "iopub.execute_input": "2022-07-28T03:51:05.002603Z",
     "iopub.status.busy": "2022-07-28T03:51:05.001879Z",
     "iopub.status.idle": "2022-07-28T03:51:05.012256Z",
     "shell.execute_reply": "2022-07-28T03:51:05.010847Z",
     "shell.execute_reply.started": "2022-07-28T03:51:05.002570Z"
    }
   },
   "outputs": [],
   "source": [
    "train.loc[train['Age'].isnull(),'Age']=100\n",
    "corr = train.corr()\n",
    "corr['Survived']"
   ]
  },
  {
   "cell_type": "code",
   "execution_count": 628,
   "metadata": {
    "execution": {
     "iopub.execute_input": "2022-07-28T03:51:05.112953Z",
     "iopub.status.busy": "2022-07-28T03:51:05.111992Z",
     "iopub.status.idle": "2022-07-28T03:51:05.317102Z",
     "shell.execute_reply": "2022-07-28T03:51:05.316334Z",
     "shell.execute_reply.started": "2022-07-28T03:51:05.112911Z"
    }
   },
   "outputs": [],
   "source": [
    "import matplotlib.pyplot as plt\n",
    "plt.figure(figsize=(10,10))\n",
    "plt.plot(corr['Survived'])"
   ]
  },
  {
   "cell_type": "code",
   "execution_count": 629,
   "metadata": {
    "execution": {
     "iopub.execute_input": "2022-07-28T03:51:05.442863Z",
     "iopub.status.busy": "2022-07-28T03:51:05.441794Z",
     "iopub.status.idle": "2022-07-28T03:51:05.472203Z",
     "shell.execute_reply": "2022-07-28T03:51:05.470989Z",
     "shell.execute_reply.started": "2022-07-28T03:51:05.442808Z"
    }
   },
   "outputs": [],
   "source": [
    "sel = ['Pclass','Age','Fare']\n",
    "#sel = ['Pclass', 'SibSp', 'Parch']\n",
    "X = train[sel]\n",
    "y = train['Survived']\n",
    "test"
   ]
  },
  {
   "cell_type": "code",
   "execution_count": 630,
   "metadata": {
    "execution": {
     "iopub.execute_input": "2022-07-28T03:51:05.802630Z",
     "iopub.status.busy": "2022-07-28T03:51:05.801845Z",
     "iopub.status.idle": "2022-07-28T03:51:05.811448Z",
     "shell.execute_reply": "2022-07-28T03:51:05.810285Z",
     "shell.execute_reply.started": "2022-07-28T03:51:05.802589Z"
    }
   },
   "outputs": [],
   "source": [
    "X_train, X_test, y_train, y_test = train_test_split(X,y,stratify = y,test_size=0.3,random_state = 0)"
   ]
  },
  {
   "cell_type": "code",
   "execution_count": 631,
   "metadata": {
    "execution": {
     "iopub.execute_input": "2022-07-28T03:51:06.002787Z",
     "iopub.status.busy": "2022-07-28T03:51:06.002364Z",
     "iopub.status.idle": "2022-07-28T03:51:06.121610Z",
     "shell.execute_reply": "2022-07-28T03:51:06.120311Z",
     "shell.execute_reply.started": "2022-07-28T03:51:06.002753Z"
    }
   },
   "outputs": [],
   "source": [
    "for i in range(1,20):\n",
    "    tree = DecisionTreeClassifier(max_depth=i, random_state=0)\n",
    "    tree.fit(X_train,y_train)\n",
    "    print(tree.score(X_train,y_train),tree.score(X_test,y_test) )"
   ]
  },
  {
   "cell_type": "code",
   "execution_count": 632,
   "metadata": {
    "execution": {
     "iopub.execute_input": "2022-07-28T03:51:06.192403Z",
     "iopub.status.busy": "2022-07-28T03:51:06.192030Z",
     "iopub.status.idle": "2022-07-28T03:51:06.205710Z",
     "shell.execute_reply": "2022-07-28T03:51:06.204924Z",
     "shell.execute_reply.started": "2022-07-28T03:51:06.192373Z"
    }
   },
   "outputs": [],
   "source": [
    "tree = DecisionTreeClassifier(max_depth=5, random_state=0)\n",
    "tree.fit(X_train,y_train)\n",
    "print(tree.score(X_train,y_train))\n",
    "print(tree.score(X_test,y_test))"
   ]
  },
  {
   "cell_type": "code",
   "execution_count": 633,
   "metadata": {
    "execution": {
     "iopub.execute_input": "2022-07-28T03:51:06.348049Z",
     "iopub.status.busy": "2022-07-28T03:51:06.347342Z",
     "iopub.status.idle": "2022-07-28T03:51:06.361461Z",
     "shell.execute_reply": "2022-07-28T03:51:06.360578Z",
     "shell.execute_reply.started": "2022-07-28T03:51:06.348009Z"
    }
   },
   "outputs": [],
   "source": [
    "test.info()"
   ]
  },
  {
   "cell_type": "code",
   "execution_count": 634,
   "metadata": {
    "execution": {
     "iopub.execute_input": "2022-07-28T03:51:06.507930Z",
     "iopub.status.busy": "2022-07-28T03:51:06.507300Z",
     "iopub.status.idle": "2022-07-28T03:51:06.517810Z",
     "shell.execute_reply": "2022-07-28T03:51:06.516816Z",
     "shell.execute_reply.started": "2022-07-28T03:51:06.507896Z"
    }
   },
   "outputs": [],
   "source": [
    "test.loc[test['Age'].isnull(),'Age']=100\n",
    "test.loc[test['Fare'].isnull(),'Fare']=0\n",
    "pred=tree.predict(test[sel])"
   ]
  },
  {
   "cell_type": "code",
   "execution_count": 635,
   "metadata": {
    "execution": {
     "iopub.execute_input": "2022-07-28T03:51:06.702116Z",
     "iopub.status.busy": "2022-07-28T03:51:06.701720Z",
     "iopub.status.idle": "2022-07-28T03:51:06.714727Z",
     "shell.execute_reply": "2022-07-28T03:51:06.713799Z",
     "shell.execute_reply.started": "2022-07-28T03:51:06.702074Z"
    }
   },
   "outputs": [],
   "source": [
    "sub['Survived'] = pred\n",
    "sub"
   ]
  },
  {
   "cell_type": "code",
   "execution_count": 636,
   "metadata": {
    "execution": {
     "iopub.execute_input": "2022-07-28T03:51:06.872749Z",
     "iopub.status.busy": "2022-07-28T03:51:06.872059Z",
     "iopub.status.idle": "2022-07-28T03:51:06.879853Z",
     "shell.execute_reply": "2022-07-28T03:51:06.879032Z",
     "shell.execute_reply.started": "2022-07-28T03:51:06.872701Z"
    }
   },
   "outputs": [],
   "source": [
    "sub.to_csv('submission.csv',index=False)"
   ]
  },
  {
   "cell_type": "code",
   "execution_count": null,
   "metadata": {},
   "outputs": [],
   "source": []
  }
 ],
 "metadata": {
  "kernelspec": {
   "display_name": "Python 3",
   "language": "python",
   "name": "python3"
  },
  "language_info": {
   "codemirror_mode": {
    "name": "ipython",
    "version": 3
   },
   "file_extension": ".py",
   "mimetype": "text/x-python",
   "name": "python",
   "nbconvert_exporter": "python",
   "pygments_lexer": "ipython3",
   "version": "3.8.8"
  }
 },
 "nbformat": 4,
 "nbformat_minor": 4
}
