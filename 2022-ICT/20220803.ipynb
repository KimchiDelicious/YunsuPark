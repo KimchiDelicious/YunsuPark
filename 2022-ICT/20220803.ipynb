{
 "cells": [
  {
   "cell_type": "code",
   "execution_count": 1,
   "id": "8b8e5c54",
   "metadata": {},
   "outputs": [],
   "source": [
    "from sklearn.datasets import load_iris\n",
    "from sklearn.model_selection import cross_val_score\n",
    "from sklearn.neighbors import KNeighborsClassifier\n",
    "from sklearn.linear_model import LogisticRegression"
   ]
  },
  {
   "cell_type": "code",
   "execution_count": 2,
   "id": "c9a2567b",
   "metadata": {},
   "outputs": [],
   "source": [
    "iris = load_iris()\n",
    "logreg = LogisticRegression()"
   ]
  },
  {
   "cell_type": "code",
   "execution_count": 3,
   "id": "659fa267",
   "metadata": {},
   "outputs": [],
   "source": [
    "import os, warnings\n",
    "import numpy as np\n",
    "# 경고 메시지 무시하거나 숨길때(ignore), 다시보이게(default)\n",
    "# warnings.filterwarnings(action='default')\n",
    "warnings.filterwarnings(action='ignore')"
   ]
  },
  {
   "cell_type": "code",
   "execution_count": 5,
   "id": "1c8d1378",
   "metadata": {},
   "outputs": [
    {
     "data": {
      "text/plain": [
       "array([0.96666667, 1.        , 0.93333333, 0.96666667, 1.        ])"
      ]
     },
     "execution_count": 5,
     "metadata": {},
     "output_type": "execute_result"
    }
   ],
   "source": [
    "score = cross_val_score(logreg, iris.data, iris.target, cv=5)\n",
    "score"
   ]
  },
  {
   "cell_type": "code",
   "execution_count": 6,
   "id": "3843346f",
   "metadata": {},
   "outputs": [],
   "source": [
    "from sklearn.model_selection import KFold\n",
    "kfold = KFold(n_splits=3)"
   ]
  },
  {
   "cell_type": "markdown",
   "id": "78cebf98",
   "metadata": {},
   "source": [
    "# 평가지표"
   ]
  },
  {
   "cell_type": "code",
   "execution_count": 7,
   "id": "b54867c3",
   "metadata": {},
   "outputs": [],
   "source": [
    "import pandas as pd\n",
    "import numpy as np\n",
    "from sklearn.model_selection import train_test_split\n",
    "import matplotlib.pyplot as plt\n",
    "import seaborn as sns"
   ]
  },
  {
   "cell_type": "code",
   "execution_count": 8,
   "id": "79bc5792",
   "metadata": {},
   "outputs": [
    {
     "name": "stdout",
     "output_type": "stream",
     "text": [
      "(1797, 64)\n"
     ]
    },
    {
     "data": {
      "text/plain": [
       "<AxesSubplot:ylabel='count'>"
      ]
     },
     "execution_count": 8,
     "metadata": {},
     "output_type": "execute_result"
    },
    {
     "data": {
      "image/png": "[encoded data removed]",
      "text/plain": [
       "<Figure size 432x288 with 1 Axes>"
      ]
     },
     "metadata": {
      "needs_background": "light"
     },
     "output_type": "display_data"
    }
   ],
   "source": [
    "from sklearn.datasets import load_digits\n",
    "\n",
    "digits = load_digits()\n",
    "print(digits.data.shape)\n",
    "\n",
    "sns.countplot(digits.target)"
   ]
  },
  {
   "cell_type": "code",
   "execution_count": 9,
   "id": "f529faa5",
   "metadata": {},
   "outputs": [],
   "source": [
    "X = digits.data\n",
    "y = digits.target == 9\n",
    "\n",
    "X_train, X_test, y_train, y_test = train_test_split(X, y,\n",
    "                                    random_state=0)"
   ]
  },
  {
   "cell_type": "code",
   "execution_count": 10,
   "id": "5e4fa70f",
   "metadata": {},
   "outputs": [
    {
     "data": {
      "text/plain": [
       "<AxesSubplot:ylabel='count'>"
      ]
     },
     "execution_count": 10,
     "metadata": {},
     "output_type": "execute_result"
    },
    {
     "data": {
      "image/png": "[encoded data removed]",
      "text/plain": [
       "<Figure size 432x288 with 2 Axes>"
      ]
     },
     "metadata": {
      "needs_background": "light"
     },
     "output_type": "display_data"
    }
   ],
   "source": [
    "plt.subplot(1,2,1)\n",
    "sns.countplot(y_train)\n",
    "\n",
    "plt.subplot(1,2,2)\n",
    "sns.countplot(y_test)"
   ]
  },
  {
   "cell_type": "code",
   "execution_count": 14,
   "id": "ce0d9e7c",
   "metadata": {},
   "outputs": [
    {
     "name": "stdout",
     "output_type": "stream",
     "text": [
      "예측 값 :  [False]\n",
      "학습용셋 정확도 :  0.9012620638455828\n",
      "테스트셋 정확도 :  0.8955555555555555\n"
     ]
    }
   ],
   "source": [
    "from sklearn.dummy import DummyClassifier\n",
    "model = DummyClassifier(strategy='most_frequent')\n",
    "model.fit(X_train, y_train)\n",
    "pred = model.predict(X_test)\n",
    "\n",
    "print(\"예측 값 : \", np.unique(pred))\n",
    "\n",
    "print(\"학습용셋 정확도 : \", model.score(X_train, y_train))\n",
    "print(\"테스트셋 정확도 : \", model.score(X_test, y_test))"
   ]
  },
  {
   "cell_type": "code",
   "execution_count": 12,
   "id": "65effdfb",
   "metadata": {},
   "outputs": [
    {
     "name": "stdout",
     "output_type": "stream",
     "text": [
      "예측 값 :  [False  True]\n",
      "학습용셋 정확도 :  0.9383815887156645\n",
      "테스트셋 정확도 :  0.9177777777777778\n"
     ]
    }
   ],
   "source": [
    "from sklearn.tree import DecisionTreeClassifier\n",
    "model = DecisionTreeClassifier(max_depth=2).fit(X_train, y_train)\n",
    "pred = model.predict(X_test)\n",
    "\n",
    "print(\"예측 값 : \", np.unique(pred))\n",
    "\n",
    "print(\"학습용셋 정확도 : \", model.score(X_train, y_train))\n",
    "print(\"테스트셋 정확도 : \", model.score(X_test, y_test))"
   ]
  },
  {
   "cell_type": "code",
   "execution_count": 13,
   "id": "26ad3049",
   "metadata": {},
   "outputs": [
    {
     "name": "stdout",
     "output_type": "stream",
     "text": [
      "예측 값 :  [False  True]\n",
      "학습용셋 정확도 :  0.9977728285077951\n",
      "테스트셋 정확도 :  0.9844444444444445\n"
     ]
    }
   ],
   "source": [
    "from sklearn.linear_model import LogisticRegression\n",
    "model = LogisticRegression(C=0.1).fit(X_train, y_train)\n",
    "pred = model.predict(X_test)\n",
    "\n",
    "print(\"예측 값 : \", np.unique(pred))\n",
    "\n",
    "print(\"학습용셋 정확도 : \", model.score(X_train, y_train))\n",
    "print(\"테스트셋 정확도 : \", model.score(X_test, y_test))"
   ]
  },
  {
   "cell_type": "code",
   "execution_count": 16,
   "id": "e5e1afee",
   "metadata": {},
   "outputs": [
    {
     "data": {
      "text/plain": [
       "array([0.9       , 0.9       , 0.90334572, 0.90334572, 0.89962825])"
      ]
     },
     "execution_count": 16,
     "metadata": {},
     "output_type": "execute_result"
    }
   ],
   "source": [
    "score = cross_val_score(model,X_train,y_train)\n",
    "score"
   ]
  },
  {
   "cell_type": "code",
   "execution_count": 17,
   "id": "136979a8",
   "metadata": {},
   "outputs": [
    {
     "name": "stdout",
     "output_type": "stream",
     "text": [
      "오차 행렬 : \n",
      "[[402   1]\n",
      " [  6  41]]\n"
     ]
    }
   ],
   "source": [
    "from sklearn.metrics import confusion_matrix\n",
    "\n",
    "model = LogisticRegression(C=0.1).fit(X_train, y_train)\n",
    "pred = model.predict(X_test)\n",
    "\n",
    "matrix = confusion_matrix(y_test, pred)\n",
    "print(\"오차 행렬 : \\n{}\".format(matrix))"
   ]
  },
  {
   "cell_type": "markdown",
   "id": "3c17c9f6",
   "metadata": {},
   "source": [
    "# 정확도\n",
    "*    모든 샘플중에 정확하게 예측한 비율\n",
    "\n",
    "# 정밀도\n",
    "*    예측을 양성으로 한 친구중에 잘 예측한 비율 \n",
    "\n",
    "# 민감도(RECALL, 진짜 양성 비율)\n",
    "*    실제 양성인 친구중에 잘 예측한 비율\n",
    "\n",
    "# 특이도\n",
    "*    실제 음성인 친구중에 잘 예측한 비율\n",
    "\n",
    "# FPRate(가짜 양성 비율)\n",
    "*    실제 음성인 데이터 중에 예측을 실패한 비율"
   ]
  },
  {
   "cell_type": "code",
   "execution_count": 18,
   "id": "f98e4cec",
   "metadata": {},
   "outputs": [
    {
     "name": "stdout",
     "output_type": "stream",
     "text": [
      "예측 값 :  [False]\n",
      "학습용셋 정확도 :  0.9012620638455828\n",
      "테스트셋 정확도 :  0.8955555555555555\n"
     ]
    }
   ],
   "source": [
    "### 빈도기반 모델\n",
    "model = DummyClassifier(strategy='most_frequent')\n",
    "model.fit(X_train, y_train)\n",
    "pred = model.predict(X_test)\n",
    "\n",
    "print(\"예측 값 : \", np.unique(pred))\n",
    "\n",
    "print(\"학습용셋 정확도 : \", model.score(X_train, y_train))\n",
    "print(\"테스트셋 정확도 : \", model.score(X_test, y_test))"
   ]
  },
  {
   "cell_type": "code",
   "execution_count": 21,
   "id": "9645fd10",
   "metadata": {},
   "outputs": [],
   "source": [
    "from sklearn.metrics import f1_score"
   ]
  },
  {
   "cell_type": "code",
   "execution_count": 22,
   "id": "0805d2cc",
   "metadata": {},
   "outputs": [
    {
     "name": "stdout",
     "output_type": "stream",
     "text": [
      "예측 값 :  [False]\n",
      "학습용셋 정확도 :  0.9012620638455828\n",
      "테스트셋 정확도 :  0.8955555555555555\n",
      "F1-score :  0.0\n"
     ]
    }
   ],
   "source": [
    "### 빈도기반 모델\n",
    "model = DummyClassifier(strategy='most_frequent')\n",
    "model.fit(X_train, y_train)\n",
    "pred = model.predict(X_test)\n",
    "\n",
    "print(\"예측 값 : \", np.unique(pred))\n",
    "\n",
    "print(\"학습용셋 정확도 : \", model.score(X_train, y_train))\n",
    "print(\"테스트셋 정확도 : \", model.score(X_test, y_test))\n",
    "\n",
    "print(\"F1-score : \", f1_score(y_test, pred))"
   ]
  },
  {
   "cell_type": "code",
   "execution_count": 26,
   "id": "292a177e",
   "metadata": {},
   "outputs": [
    {
     "name": "stdout",
     "output_type": "stream",
     "text": [
      "예측 값 :  [False  True]\n",
      "학습용셋 정확도 :  1.0\n",
      "테스트셋 정확도 :  0.9555555555555556\n",
      "F1-score :  0.7777777777777778\n"
     ]
    }
   ],
   "source": [
    "### 빈도기반 모델\n",
    "model = DecisionTreeClassifier()\n",
    "model.fit(X_train, y_train)\n",
    "pred = model.predict(X_test)\n",
    "\n",
    "print(\"예측 값 : \", np.unique(pred))\n",
    "\n",
    "print(\"학습용셋 정확도 : \", model.score(X_train, y_train))\n",
    "print(\"테스트셋 정확도 : \", model.score(X_test, y_test))\n",
    "\n",
    "print(\"F1-score : \", f1_score(y_test, pred))"
   ]
  },
  {
   "cell_type": "code",
   "execution_count": 29,
   "id": "be92bebd",
   "metadata": {},
   "outputs": [
    {
     "name": "stdout",
     "output_type": "stream",
     "text": [
      "예측 값 :  [False  True]\n",
      "학습용셋 정확도 :  0.9977728285077951\n",
      "테스트셋 정확도 :  0.9844444444444445\n",
      "F1-score :  0.9213483146067415\n"
     ]
    }
   ],
   "source": [
    "### 빈도기반 모델\n",
    "model = LogisticRegression(C=0.1)\n",
    "model.fit(X_train, y_train)\n",
    "pred = model.predict(X_test)\n",
    "\n",
    "print(\"예측 값 : \", np.unique(pred))\n",
    "\n",
    "print(\"학습용셋 정확도 : \", model.score(X_train, y_train))\n",
    "print(\"테스트셋 정확도 : \", model.score(X_test, y_test))\n",
    "\n",
    "print(\"F1-score : \", f1_score(y_test, pred))"
   ]
  },
  {
   "cell_type": "code",
   "execution_count": 32,
   "id": "244b5d16",
   "metadata": {},
   "outputs": [
    {
     "data": {
      "text/plain": [
       "0.9403807502592281"
      ]
     },
     "execution_count": 32,
     "metadata": {},
     "output_type": "execute_result"
    }
   ],
   "source": [
    "score = cross_val_score(model, X_train, y_train, scoring='f1')\n",
    "score.mean()"
   ]
  },
  {
   "cell_type": "code",
   "execution_count": null,
   "id": "41f76d26",
   "metadata": {},
   "outputs": [],
   "source": []
  }
 ],
 "metadata": {
  "kernelspec": {
   "display_name": "Python 3",
   "language": "python",
   "name": "python3"
  },
  "language_info": {
   "codemirror_mode": {
    "name": "ipython",
    "version": 3
   },
   "file_extension": ".py",
   "mimetype": "text/x-python",
   "name": "python",
   "nbconvert_exporter": "python",
   "pygments_lexer": "ipython3",
   "version": "3.8.8"
  }
 },
 "nbformat": 4,
 "nbformat_minor": 5
}
