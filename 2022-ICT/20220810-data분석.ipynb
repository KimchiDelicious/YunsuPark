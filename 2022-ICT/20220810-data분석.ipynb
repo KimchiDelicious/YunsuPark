{
 "cells": [
  {
   "cell_type": "code",
   "execution_count": 1,
   "id": "ce3c51d7",
   "metadata": {},
   "outputs": [],
   "source": [
    "import pandas as pd"
   ]
  },
  {
   "cell_type": "code",
   "execution_count": 51,
   "id": "ac5b8f85",
   "metadata": {},
   "outputs": [
    {
     "data": {
      "text/plain": [
       "((549, 6), (112, 7), (107, 6))"
      ]
     },
     "execution_count": 51,
     "metadata": {},
     "output_type": "execute_result"
    }
   ],
   "source": [
    "sr = pd.read_csv('datasets/Age-standardized suicide rates.csv')\n",
    "fc = pd.read_csv('datasets/Facilities.csv')\n",
    "hr = pd.read_csv('datasets/Human Resources.csv')\n",
    "\n",
    "sr.shape, fc.shape, hr.shape"
   ]
  },
  {
   "cell_type": "code",
   "execution_count": 52,
   "id": "9e694c8c",
   "metadata": {},
   "outputs": [
    {
     "name": "stdout",
     "output_type": "stream",
     "text": [
      "<class 'pandas.core.frame.DataFrame'>\n",
      "RangeIndex: 549 entries, 0 to 548\n",
      "Data columns (total 6 columns):\n",
      " #   Column   Non-Null Count  Dtype  \n",
      "---  ------   --------------  -----  \n",
      " 0   Country  549 non-null    object \n",
      " 1   Sex      549 non-null    object \n",
      " 2   2016     549 non-null    float64\n",
      " 3   2015     549 non-null    float64\n",
      " 4   2010     549 non-null    float64\n",
      " 5   2000     549 non-null    float64\n",
      "dtypes: float64(4), object(2)\n",
      "memory usage: 25.9+ KB\n"
     ]
    }
   ],
   "source": [
    "sr.info()"
   ]
  },
  {
   "cell_type": "code",
   "execution_count": 53,
   "id": "e2ffcc0f",
   "metadata": {},
   "outputs": [
    {
     "data": {
      "text/plain": [
       "['Afghanistan',\n",
       " 'Albania',\n",
       " 'Angola',\n",
       " 'Antigua and Barbuda',\n",
       " 'Argentina',\n",
       " 'Armenia',\n",
       " 'Azerbaijan',\n",
       " 'Bangladesh',\n",
       " 'Belarus',\n",
       " 'Belize',\n",
       " 'Bhutan',\n",
       " 'Bolivia (Plurinational State of)',\n",
       " 'Brazil',\n",
       " 'Brunei Darussalam',\n",
       " 'Bulgaria',\n",
       " 'Burkina Faso',\n",
       " 'Cambodia',\n",
       " 'Chad',\n",
       " 'Chile',\n",
       " 'Colombia',\n",
       " 'Congo',\n",
       " 'Cook Islands',\n",
       " 'Costa Rica',\n",
       " \"Côte d'Ivoire\",\n",
       " 'Croatia',\n",
       " 'Cuba',\n",
       " 'Dominican Republic',\n",
       " 'Ecuador',\n",
       " 'Egypt',\n",
       " 'El Salvador',\n",
       " 'Eritrea',\n",
       " 'Estonia',\n",
       " 'Fiji',\n",
       " 'Gabon',\n",
       " 'Gambia',\n",
       " 'Georgia',\n",
       " 'Ghana',\n",
       " 'Greece',\n",
       " 'Grenada',\n",
       " 'Guatemala',\n",
       " 'Guinea',\n",
       " 'Guinea-Bissau',\n",
       " 'Guyana',\n",
       " 'Haiti',\n",
       " 'Hungary',\n",
       " 'India',\n",
       " 'Indonesia',\n",
       " 'Israel',\n",
       " 'Japan',\n",
       " 'Jordan',\n",
       " 'Kenya',\n",
       " 'Kyrgyzstan',\n",
       " 'Liberia',\n",
       " 'Lithuania',\n",
       " 'Madagascar',\n",
       " 'Malaysia',\n",
       " 'Mali',\n",
       " 'Mexico',\n",
       " 'Monaco',\n",
       " 'Mongolia',\n",
       " 'Montenegro',\n",
       " 'Morocco',\n",
       " 'Mozambique',\n",
       " 'Myanmar',\n",
       " 'Namibia',\n",
       " 'Nauru',\n",
       " 'Nepal',\n",
       " 'New Zealand',\n",
       " 'Niger',\n",
       " 'Norway',\n",
       " 'Panama',\n",
       " 'Peru',\n",
       " 'Philippines',\n",
       " 'Poland',\n",
       " 'Qatar',\n",
       " 'Republic of Korea',\n",
       " 'Romania',\n",
       " 'Rwanda',\n",
       " 'Saint Lucia',\n",
       " 'Samoa',\n",
       " 'Sao Tome and Principe',\n",
       " 'Saudi Arabia',\n",
       " 'Senegal',\n",
       " 'Seychelles',\n",
       " 'Singapore',\n",
       " 'Slovenia',\n",
       " 'South Africa',\n",
       " 'South Sudan',\n",
       " 'Suriname',\n",
       " 'Sweden',\n",
       " 'Syrian Arab Republic',\n",
       " 'Tajikistan',\n",
       " 'Thailand',\n",
       " 'Timor-Leste',\n",
       " 'Togo',\n",
       " 'Tonga',\n",
       " 'Turkey',\n",
       " 'Uganda',\n",
       " 'Ukraine',\n",
       " 'United Arab Emirates',\n",
       " 'United States of America',\n",
       " 'Uruguay',\n",
       " 'Uzbekistan',\n",
       " 'Vanuatu',\n",
       " 'Yemen',\n",
       " 'Zambia',\n",
       " 'Zimbabwe']"
      ]
     },
     "execution_count": 53,
     "metadata": {},
     "output_type": "execute_result"
    }
   ],
   "source": [
    "col = hr['Country'].values\n",
    "col = list(col)\n",
    "col"
   ]
  },
  {
   "cell_type": "code",
   "execution_count": 67,
   "id": "23064a95",
   "metadata": {},
   "outputs": [
    {
     "data": {
      "text/plain": [
       "(312, 6)"
      ]
     },
     "execution_count": 67,
     "metadata": {},
     "output_type": "execute_result"
    }
   ],
   "source": [
    "sel = [sr['Country'][x] in col for x in range(0,sr.shape[0])]\n",
    "sr_ = sr.loc[sel,:]\n",
    "sr_.shape"
   ]
  },
  {
   "cell_type": "code",
   "execution_count": null,
   "id": "478bfc0d",
   "metadata": {},
   "outputs": [],
   "source": []
  }
 ],
 "metadata": {
  "kernelspec": {
   "display_name": "Python 3",
   "language": "python",
   "name": "python3"
  },
  "language_info": {
   "codemirror_mode": {
    "name": "ipython",
    "version": 3
   },
   "file_extension": ".py",
   "mimetype": "text/x-python",
   "name": "python",
   "nbconvert_exporter": "python",
   "pygments_lexer": "ipython3",
   "version": "3.8.8"
  }
 },
 "nbformat": 4,
 "nbformat_minor": 5
}
