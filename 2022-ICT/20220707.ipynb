{
 "cells": [
  {
   "cell_type": "code",
   "execution_count": 1,
   "id": "3faebd38",
   "metadata": {},
   "outputs": [
    {
     "name": "stdout",
     "output_type": "stream",
     "text": [
      "openpyxl ver :  3.0.7\n"
     ]
    }
   ],
   "source": [
    "import openpyxl as oxl\n",
    "\n",
    "print(\"openpyxl ver : \", oxl.__version__)"
   ]
  },
  {
   "cell_type": "code",
   "execution_count": 2,
   "id": "9c045941",
   "metadata": {},
   "outputs": [],
   "source": [
    "from openpyxl import Workbook"
   ]
  },
  {
   "cell_type": "code",
   "execution_count": 4,
   "id": "858a6e07",
   "metadata": {},
   "outputs": [
    {
     "name": "stdout",
     "output_type": "stream",
     "text": [
      "<class 'openpyxl.workbook.workbook.Workbook'>\n"
     ]
    }
   ],
   "source": [
    "wb = Workbook()\n",
    "\n",
    "print(type(wb))"
   ]
  },
  {
   "cell_type": "code",
   "execution_count": 6,
   "id": "47637b2c",
   "metadata": {},
   "outputs": [
    {
     "name": "stdout",
     "output_type": "stream",
     "text": [
      "['Sheet']\n"
     ]
    }
   ],
   "source": [
    "print(wb.sheetnames)"
   ]
  },
  {
   "cell_type": "code",
   "execution_count": 7,
   "id": "25bc2f8e",
   "metadata": {},
   "outputs": [
    {
     "name": "stdout",
     "output_type": "stream",
     "text": [
      "<Worksheet \"Sheet\">\n"
     ]
    }
   ],
   "source": [
    "print(wb.active)"
   ]
  },
  {
   "cell_type": "code",
   "execution_count": 12,
   "id": "f53fb169",
   "metadata": {},
   "outputs": [
    {
     "name": "stdout",
     "output_type": "stream",
     "text": [
      "['Sheet', 'Sheet1', 'Sheet2', 'Sheet11']\n",
      "<Worksheet \"Sheet\">\n"
     ]
    }
   ],
   "source": [
    "ws1 = wb.create_sheet('Sheet1')\n",
    "\n",
    "print(wb.sheetnames)\n",
    "print(wb.active)"
   ]
  },
  {
   "cell_type": "code",
   "execution_count": 11,
   "id": "9fb20cfa",
   "metadata": {},
   "outputs": [
    {
     "name": "stdout",
     "output_type": "stream",
     "text": [
      "['Sheet', 'Sheet1', 'Sheet2']\n"
     ]
    }
   ],
   "source": [
    "wb2 = wb.create_sheet('Sheet2')\n",
    "\n",
    "print(wb.sheetnames)"
   ]
  },
  {
   "cell_type": "code",
   "execution_count": 16,
   "id": "2ca0d831",
   "metadata": {},
   "outputs": [
    {
     "name": "stdout",
     "output_type": "stream",
     "text": [
      "['Sheet', 'Sheet01', 'Sheet0', 'Sheet10', 'Sheet1', 'Sheet2', 'Sheet11']\n",
      "<Worksheet \"Sheet\">\n"
     ]
    }
   ],
   "source": [
    "wb3 = wb.create_sheet('Sheet0', 1)\n",
    "print(wb.sheetnames)\n",
    "print(wb.active)"
   ]
  },
  {
   "cell_type": "code",
   "execution_count": 18,
   "id": "0ec64546",
   "metadata": {},
   "outputs": [
    {
     "name": "stdout",
     "output_type": "stream",
     "text": [
      "['Sheet', 'Sheet01', '두번째시트', 'Sheet10', 'Sheet1', 'Sheet2', 'Sheet11']\n"
     ]
    }
   ],
   "source": [
    "new_ws2 = wb['Sheet0']\n",
    "new_ws2.title = '두번째시트'\n",
    "print(wb.sheetnames)"
   ]
  },
  {
   "cell_type": "code",
   "execution_count": 19,
   "id": "83ad9ba3",
   "metadata": {},
   "outputs": [
    {
     "name": "stdout",
     "output_type": "stream",
     "text": [
      "['Sheet', 'Sheet01', '두번째시트', 'Sheet10', 'Sheet1', '네번째시트', 'Sheet11']\n"
     ]
    }
   ],
   "source": [
    "new_ws3 = wb['Sheet2']\n",
    "new_ws3.title = '네번째시트'\n",
    "print(wb.sheetnames)"
   ]
  },
  {
   "cell_type": "code",
   "execution_count": 33,
   "id": "19da18f1",
   "metadata": {},
   "outputs": [],
   "source": [
    "new_ws2['A1']='이름'\n",
    "new_ws2['B1']='전화번호'\n",
    "new_ws2['C1']='주소'\n",
    "\n",
    "new_ws2['A2']='홍길동'\n",
    "new_ws2['B2']='02-302-3333'\n",
    "new_ws2['C2']='한양'"
   ]
  },
  {
   "cell_type": "code",
   "execution_count": 34,
   "id": "639c31aa",
   "metadata": {},
   "outputs": [
    {
     "data": {
      "text/plain": [
       "<Cell '두번째시트'.C3>"
      ]
     },
     "execution_count": 34,
     "metadata": {},
     "output_type": "execute_result"
    }
   ],
   "source": [
    "new_ws2.cell(row=3, column=1, value='김길동')\n",
    "new_ws2.cell(row=3, column=2, value='010-222-3334')\n",
    "new_ws2.cell(row=3, column=3, value='서울')"
   ]
  },
  {
   "cell_type": "code",
   "execution_count": 23,
   "id": "15f9e52c",
   "metadata": {},
   "outputs": [
    {
     "name": "stdout",
     "output_type": "stream",
     "text": [
      "이름\n"
     ]
    }
   ],
   "source": [
    "print(new_ws2['A1'].value)"
   ]
  },
  {
   "cell_type": "code",
   "execution_count": 26,
   "id": "4ccf569e",
   "metadata": {},
   "outputs": [
    {
     "name": "stdout",
     "output_type": "stream",
     "text": [
      "홍길동\n"
     ]
    }
   ],
   "source": [
    "print(new_ws2['A'][1].value)"
   ]
  },
  {
   "cell_type": "code",
   "execution_count": 29,
   "id": "33ff4665",
   "metadata": {},
   "outputs": [
    {
     "name": "stdout",
     "output_type": "stream",
     "text": [
      "이름 전화번호\n",
      "홍길동 02-302-3333\n",
      "김길동 010-222-3334\n"
     ]
    }
   ],
   "source": [
    "for i in range(0,3,1):\n",
    "    print(new_ws2['A'][i].value, new_ws2['B'][i].value)"
   ]
  },
  {
   "cell_type": "code",
   "execution_count": 35,
   "id": "c0b5a9f8",
   "metadata": {},
   "outputs": [
    {
     "name": "stdout",
     "output_type": "stream",
     "text": [
      "이름 전화번호 주소\n",
      "홍길동 02-302-3333 한양\n",
      "김길동 010-222-3334 서울\n",
      "박윤수 010-0000-0000 광주\n"
     ]
    }
   ],
   "source": [
    "new_ws2['A4']='박윤수'\n",
    "new_ws2['B4']='010-0000-0000'\n",
    "new_ws2['C4']='광주'\n",
    "for i in range(0,4,1):\n",
    "    print(new_ws2['A'][i].value, new_ws2['B'][i].value, new_ws2['C'][i].value)"
   ]
  },
  {
   "cell_type": "code",
   "execution_count": 36,
   "id": "c5244910",
   "metadata": {},
   "outputs": [],
   "source": [
    "wb.save('주소록.xlsx')"
   ]
  },
  {
   "cell_type": "code",
   "execution_count": null,
   "id": "aaa2b5b0",
   "metadata": {},
   "outputs": [],
   "source": []
  }
 ],
 "metadata": {
  "kernelspec": {
   "display_name": "Python 3",
   "language": "python",
   "name": "python3"
  },
  "language_info": {
   "codemirror_mode": {
    "name": "ipython",
    "version": 3
   },
   "file_extension": ".py",
   "mimetype": "text/x-python",
   "name": "python",
   "nbconvert_exporter": "python",
   "pygments_lexer": "ipython3",
   "version": "3.8.8"
  }
 },
 "nbformat": 4,
 "nbformat_minor": 5
}
