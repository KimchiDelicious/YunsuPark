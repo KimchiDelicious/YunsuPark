{
 "cells": [
  {
   "cell_type": "code",
   "execution_count": 9,
   "id": "055f78f6",
   "metadata": {},
   "outputs": [],
   "source": [
    "from keras.datasets import mnist\n",
    "from keras.utils import np_utils\n",
    "import numpy as np\n",
    "import sys\n",
    "import tensorflow as tf\n",
    "import matplotlib.pyplot as plt"
   ]
  },
  {
   "cell_type": "code",
   "execution_count": 7,
   "id": "390614c1",
   "metadata": {},
   "outputs": [
    {
     "name": "stdout",
     "output_type": "stream",
     "text": [
      "label=[5 0 4 1 9 2 1 3 1 4 3 5 3 6 1]\n"
     ]
    },
    {
     "data": {
      "image/png": "[encoded data removed]",
      "text/plain": [
       "<Figure size 1296x864 with 15 Axes>"
      ]
     },
     "metadata": {},
     "output_type": "display_data"
    }
   ],
   "source": [
    "(X_train, y_train), (X_test, y_test) = mnist.load_data()\n",
    "fig, axes = plt.subplots(3, 5, figsize=(18,12),\n",
    "                        subplot_kw= {'xticks':(), 'yticks':() })\n",
    "\n",
    "print(\"label={}\".format(y_train[0:15]))   # x데이터 0~14개 가져오기\n",
    "\n",
    "for image, ax in zip( X_train, axes.ravel() ):\n",
    "    ax.imshow(image) # 이미지 표시"
   ]
  },
  {
   "cell_type": "code",
   "execution_count": 8,
   "id": "bb777d70",
   "metadata": {},
   "outputs": [],
   "source": [
    "X_train = X_train.reshape(X_train.shape[0],784)   # 60000, 28, 28 -> 60000, 784로 변경\n",
    "# 데이터 값의 범위 0~255 -> 0~1 \n",
    "X_train.astype('float64') \n",
    "X_train = X_train/255"
   ]
  },
  {
   "cell_type": "code",
   "execution_count": 10,
   "id": "f76ab7d7",
   "metadata": {},
   "outputs": [
    {
     "name": "stdout",
     "output_type": "stream",
     "text": [
      "(60000, 784)\n",
      "데이터의 최대, 최소 : 0.0 1.0\n"
     ]
    }
   ],
   "source": [
    "import numpy as np\n",
    "\n",
    "print(X_train.shape)               # 데이터 크기\n",
    "print(\"데이터의 최대, 최소 :\", np.min(X_train), np.max(X_train) )"
   ]
  },
  {
   "cell_type": "code",
   "execution_count": 11,
   "id": "9372ded9",
   "metadata": {},
   "outputs": [],
   "source": [
    "# 테스트 데이터 전처리\n",
    "X_test = X_test.reshape(X_test.shape[0],784)\n",
    "X_test.astype('float64')\n",
    "X_test = X_test/255"
   ]
  },
  {
   "cell_type": "code",
   "execution_count": 12,
   "id": "cf443553",
   "metadata": {},
   "outputs": [],
   "source": [
    "# OneHotEncoding - 10진수의 값을 0, 1의 값을 갖는 벡터로 표현\n",
    "y_train_1D = np_utils.to_categorical(y_train, 10)\n",
    "y_test_1D = np_utils.to_categorical(y_test, 10)"
   ]
  },
  {
   "cell_type": "code",
   "execution_count": 17,
   "id": "690497ee",
   "metadata": {},
   "outputs": [
    {
     "data": {
      "text/plain": [
       "(array([5, 0, 4, 1], dtype=uint8),\n",
       " array([[0., 0., 0., 0., 0., 1., 0., 0., 0., 0.],\n",
       "        [1., 0., 0., 0., 0., 0., 0., 0., 0., 0.],\n",
       "        [0., 0., 0., 0., 1., 0., 0., 0., 0., 0.],\n",
       "        [0., 1., 0., 0., 0., 0., 0., 0., 0., 0.]], dtype=float32))"
      ]
     },
     "execution_count": 17,
     "metadata": {},
     "output_type": "execute_result"
    }
   ],
   "source": [
    "y_train[0:4], y_train_1D[0:4]"
   ]
  },
  {
   "cell_type": "code",
   "execution_count": 25,
   "id": "2c50e6a9",
   "metadata": {},
   "outputs": [],
   "source": [
    "from keras.models import Sequential\n",
    "from keras.layers import Dense, Activation"
   ]
  },
  {
   "cell_type": "code",
   "execution_count": 19,
   "id": "c98c2a11",
   "metadata": {},
   "outputs": [],
   "source": [
    "m = Sequential()\n",
    "m.add(Dense(512, input_dim=784, activation='relu'))\n",
    "m.add(Dense(128, activation='relu'))\n",
    "m.add(Dense(10, activation='softmax'))"
   ]
  },
  {
   "cell_type": "code",
   "execution_count": 20,
   "id": "2bd20045",
   "metadata": {},
   "outputs": [],
   "source": [
    "m.compile(loss='categorical_crossentropy', optimizer='adam', metrics=['accuracy'])"
   ]
  },
  {
   "cell_type": "code",
   "execution_count": 22,
   "id": "c1bc1f4f",
   "metadata": {},
   "outputs": [
    {
     "name": "stdout",
     "output_type": "stream",
     "text": [
      "Epoch 1/30\n",
      "300/300 [==============================] - 3s 7ms/step - loss: 0.2701 - accuracy: 0.9217 - val_loss: 0.1318 - val_accuracy: 0.9605\n",
      "Epoch 2/30\n",
      "300/300 [==============================] - 2s 7ms/step - loss: 0.0980 - accuracy: 0.9704 - val_loss: 0.0975 - val_accuracy: 0.9692\n",
      "Epoch 3/30\n",
      "300/300 [==============================] - 2s 7ms/step - loss: 0.0628 - accuracy: 0.9808 - val_loss: 0.0732 - val_accuracy: 0.9768\n",
      "Epoch 4/30\n",
      "300/300 [==============================] - 2s 7ms/step - loss: 0.0443 - accuracy: 0.9860 - val_loss: 0.0745 - val_accuracy: 0.9768\n",
      "Epoch 5/30\n",
      "300/300 [==============================] - 2s 8ms/step - loss: 0.0307 - accuracy: 0.9908 - val_loss: 0.0702 - val_accuracy: 0.9795\n",
      "Epoch 6/30\n",
      "300/300 [==============================] - 2s 8ms/step - loss: 0.0235 - accuracy: 0.9929 - val_loss: 0.0679 - val_accuracy: 0.9800\n",
      "Epoch 7/30\n",
      "300/300 [==============================] - 2s 8ms/step - loss: 0.0189 - accuracy: 0.9940 - val_loss: 0.0658 - val_accuracy: 0.9809\n",
      "Epoch 8/30\n",
      "300/300 [==============================] - 2s 8ms/step - loss: 0.0132 - accuracy: 0.9963 - val_loss: 0.0800 - val_accuracy: 0.9770\n",
      "Epoch 9/30\n",
      "300/300 [==============================] - 3s 9ms/step - loss: 0.0105 - accuracy: 0.9966 - val_loss: 0.0801 - val_accuracy: 0.9799\n",
      "Epoch 10/30\n",
      "300/300 [==============================] - 2s 8ms/step - loss: 0.0097 - accuracy: 0.9969 - val_loss: 0.0749 - val_accuracy: 0.9798\n",
      "Epoch 11/30\n",
      "300/300 [==============================] - 3s 9ms/step - loss: 0.0108 - accuracy: 0.9962 - val_loss: 0.0771 - val_accuracy: 0.9812\n",
      "Epoch 12/30\n",
      "300/300 [==============================] - 2s 8ms/step - loss: 0.0107 - accuracy: 0.9966 - val_loss: 0.0943 - val_accuracy: 0.9762\n",
      "Epoch 13/30\n",
      "300/300 [==============================] - 2s 7ms/step - loss: 0.0061 - accuracy: 0.9982 - val_loss: 0.0895 - val_accuracy: 0.9784\n",
      "Epoch 14/30\n",
      "300/300 [==============================] - 2s 8ms/step - loss: 0.0124 - accuracy: 0.9958 - val_loss: 0.0752 - val_accuracy: 0.9821\n",
      "Epoch 15/30\n",
      "300/300 [==============================] - 2s 8ms/step - loss: 0.0101 - accuracy: 0.9966 - val_loss: 0.0772 - val_accuracy: 0.9815\n",
      "Epoch 16/30\n",
      "300/300 [==============================] - 2s 7ms/step - loss: 0.0070 - accuracy: 0.9976 - val_loss: 0.0816 - val_accuracy: 0.9807\n",
      "Epoch 17/30\n",
      "300/300 [==============================] - 2s 8ms/step - loss: 0.0042 - accuracy: 0.9985 - val_loss: 0.0765 - val_accuracy: 0.9815\n",
      "Epoch 18/30\n",
      "300/300 [==============================] - 2s 8ms/step - loss: 0.0052 - accuracy: 0.9984 - val_loss: 0.0780 - val_accuracy: 0.9815\n",
      "Epoch 19/30\n",
      "300/300 [==============================] - 3s 9ms/step - loss: 0.0068 - accuracy: 0.9977 - val_loss: 0.1119 - val_accuracy: 0.9767\n",
      "Epoch 20/30\n",
      "300/300 [==============================] - 2s 8ms/step - loss: 0.0086 - accuracy: 0.9973 - val_loss: 0.0942 - val_accuracy: 0.9791\n",
      "Epoch 21/30\n",
      "300/300 [==============================] - 2s 8ms/step - loss: 0.0041 - accuracy: 0.9987 - val_loss: 0.0873 - val_accuracy: 0.9820\n",
      "Epoch 22/30\n",
      "300/300 [==============================] - 3s 8ms/step - loss: 0.0024 - accuracy: 0.9993 - val_loss: 0.0933 - val_accuracy: 0.9826\n",
      "Epoch 23/30\n",
      "300/300 [==============================] - 2s 8ms/step - loss: 0.0112 - accuracy: 0.9963 - val_loss: 0.0924 - val_accuracy: 0.9797\n",
      "Epoch 24/30\n",
      "300/300 [==============================] - 2s 8ms/step - loss: 0.0065 - accuracy: 0.9978 - val_loss: 0.0929 - val_accuracy: 0.9809\n",
      "Epoch 25/30\n",
      "300/300 [==============================] - 2s 7ms/step - loss: 0.0016 - accuracy: 0.9995 - val_loss: 0.0932 - val_accuracy: 0.9819\n",
      "Epoch 26/30\n",
      "300/300 [==============================] - 2s 7ms/step - loss: 0.0013 - accuracy: 0.9997 - val_loss: 0.0916 - val_accuracy: 0.9825\n",
      "Epoch 27/30\n",
      "300/300 [==============================] - 2s 8ms/step - loss: 5.5055e-04 - accuracy: 0.9999 - val_loss: 0.0819 - val_accuracy: 0.9843\n",
      "Epoch 28/30\n",
      "300/300 [==============================] - 2s 7ms/step - loss: 7.1772e-04 - accuracy: 0.9999 - val_loss: 0.0784 - val_accuracy: 0.9852\n",
      "Epoch 29/30\n",
      "300/300 [==============================] - 2s 7ms/step - loss: 3.7446e-04 - accuracy: 0.9999 - val_loss: 0.0809 - val_accuracy: 0.9850\n",
      "Epoch 30/30\n",
      "300/300 [==============================] - 2s 7ms/step - loss: 0.0186 - accuracy: 0.9942 - val_loss: 0.0987 - val_accuracy: 0.9797\n"
     ]
    }
   ],
   "source": [
    "history = m.fit(X_train, y_train_1D, validation_data=(X_test, y_test_1D), epochs=30, batch_size=200, verbose=1)"
   ]
  },
  {
   "cell_type": "markdown",
   "id": "379d80d2",
   "metadata": {},
   "source": [
    "# earlyStopping()"
   ]
  },
  {
   "cell_type": "code",
   "execution_count": 23,
   "id": "0b0912c1",
   "metadata": {},
   "outputs": [],
   "source": [
    "np.random.seed(3)\n",
    "\n",
    "(X_train, y_train), (X_test, y_test) = mnist.load_data()\n",
    "\n",
    "# 훈련셋과 검증셋 분리\n",
    "X_val = X_train[50000:]\n",
    "y_val = y_train[50000:]\n",
    "X_train = X_train[:50000]\n",
    "y_train = y_train[:50000]"
   ]
  },
  {
   "cell_type": "code",
   "execution_count": 24,
   "id": "9f19d012",
   "metadata": {},
   "outputs": [],
   "source": [
    "X_train = X_train.reshape(50000, 784).astype('float32') / 255.0\n",
    "X_val = X_val.reshape(10000, 784).astype('float32') / 255.0\n",
    "X_test = X_test.reshape(10000, 784).astype('float32') / 255.0"
   ]
  },
  {
   "cell_type": "code",
   "execution_count": 26,
   "id": "b86bbc26",
   "metadata": {},
   "outputs": [],
   "source": [
    "# 훈련셋, 검증셋 고르기\n",
    "train_rand_idxs = np.random.choice(50000, 10000)\n",
    "val_rand_idxs = np.random.choice(10000, 5000)\n",
    "\n",
    "X_train = X_train[train_rand_idxs]\n",
    "y_train = y_train[train_rand_idxs]\n",
    "X_val = X_val[val_rand_idxs]\n",
    "y_val = y_val[val_rand_idxs]"
   ]
  },
  {
   "cell_type": "code",
   "execution_count": 27,
   "id": "bc4f3be9",
   "metadata": {},
   "outputs": [],
   "source": [
    "# 라벨링 전환\n",
    "y_train = np_utils.to_categorical(y_train)\n",
    "y_val = np_utils.to_categorical(y_val)\n",
    "y_test = np_utils.to_categorical(y_test)"
   ]
  },
  {
   "cell_type": "code",
   "execution_count": 28,
   "id": "57bf1d3f",
   "metadata": {},
   "outputs": [
    {
     "name": "stdout",
     "output_type": "stream",
     "text": [
      "(10000, 784) (10000, 10)\n",
      "(5000, 784) (5000, 10)\n",
      "(10000, 784) (10000, 10)\n"
     ]
    }
   ],
   "source": [
    "print(X_train.shape, y_train.shape)\n",
    "print(X_val.shape, y_val.shape)\n",
    "print(X_test.shape, y_test.shape)"
   ]
  },
  {
   "cell_type": "code",
   "execution_count": 30,
   "id": "a9c092bb",
   "metadata": {},
   "outputs": [],
   "source": [
    "m.compile(loss=\"categorical_crossentropy\",\n",
    "          optimizer='adam',\n",
    "          metrics=['accuracy'] ) "
   ]
  },
  {
   "cell_type": "code",
   "execution_count": 32,
   "id": "ce5425f1",
   "metadata": {},
   "outputs": [
    {
     "name": "stdout",
     "output_type": "stream",
     "text": [
      "Model: \"sequential\"\n",
      "_________________________________________________________________\n",
      " Layer (type)                Output Shape              Param #   \n",
      "=================================================================\n",
      " dense (Dense)               (None, 512)               401920    \n",
      "                                                                 \n",
      " dense_1 (Dense)             (None, 128)               65664     \n",
      "                                                                 \n",
      " dense_2 (Dense)             (None, 10)                1290      \n",
      "                                                                 \n",
      "=================================================================\n",
      "Total params: 468,874\n",
      "Trainable params: 468,874\n",
      "Non-trainable params: 0\n",
      "_________________________________________________________________\n"
     ]
    }
   ],
   "source": [
    "m.summary()"
   ]
  },
  {
   "cell_type": "code",
   "execution_count": 33,
   "id": "76449c64",
   "metadata": {},
   "outputs": [
    {
     "name": "stdout",
     "output_type": "stream",
     "text": [
      "Epoch 1/3000\n",
      "1000/1000 [==============================] - 5s 5ms/step - loss: 0.0722 - accuracy: 0.9833 - val_loss: 0.0461 - val_accuracy: 0.9870\n",
      "Epoch 2/3000\n",
      "1000/1000 [==============================] - 5s 5ms/step - loss: 0.0370 - accuracy: 0.9892 - val_loss: 0.0392 - val_accuracy: 0.9892\n",
      "Epoch 3/3000\n",
      "1000/1000 [==============================] - 5s 5ms/step - loss: 0.0346 - accuracy: 0.9911 - val_loss: 0.1030 - val_accuracy: 0.9746\n",
      "Epoch 4/3000\n",
      "1000/1000 [==============================] - 5s 5ms/step - loss: 0.0316 - accuracy: 0.9924 - val_loss: 0.0509 - val_accuracy: 0.9858\n",
      "Epoch 5/3000\n",
      "1000/1000 [==============================] - 5s 5ms/step - loss: 0.0306 - accuracy: 0.9921 - val_loss: 0.1321 - val_accuracy: 0.9746\n",
      "Epoch 6/3000\n",
      "1000/1000 [==============================] - 5s 5ms/step - loss: 0.0240 - accuracy: 0.9931 - val_loss: 0.1283 - val_accuracy: 0.9736\n",
      "Epoch 7/3000\n",
      "1000/1000 [==============================] - 5s 5ms/step - loss: 0.0196 - accuracy: 0.9947 - val_loss: 0.0919 - val_accuracy: 0.9806\n",
      "Epoch 8/3000\n",
      "1000/1000 [==============================] - 6s 6ms/step - loss: 0.0222 - accuracy: 0.9946 - val_loss: 0.0675 - val_accuracy: 0.9844\n",
      "Epoch 9/3000\n",
      "1000/1000 [==============================] - 5s 5ms/step - loss: 0.0332 - accuracy: 0.9934 - val_loss: 0.1073 - val_accuracy: 0.9792\n",
      "Epoch 10/3000\n",
      "1000/1000 [==============================] - 5s 5ms/step - loss: 0.0210 - accuracy: 0.9945 - val_loss: 0.1218 - val_accuracy: 0.9778\n",
      "Epoch 11/3000\n",
      "1000/1000 [==============================] - 4s 4ms/step - loss: 0.0234 - accuracy: 0.9942 - val_loss: 0.1320 - val_accuracy: 0.9736\n",
      "Epoch 12/3000\n",
      "1000/1000 [==============================] - 4s 4ms/step - loss: 0.0290 - accuracy: 0.9937 - val_loss: 0.0977 - val_accuracy: 0.9786\n",
      "Epoch 13/3000\n",
      "1000/1000 [==============================] - 4s 4ms/step - loss: 0.0189 - accuracy: 0.9948 - val_loss: 0.2572 - val_accuracy: 0.9636\n",
      "Epoch 14/3000\n",
      "1000/1000 [==============================] - 4s 4ms/step - loss: 0.0185 - accuracy: 0.9947 - val_loss: 0.1241 - val_accuracy: 0.9758\n",
      "Epoch 15/3000\n",
      "1000/1000 [==============================] - 4s 4ms/step - loss: 0.0214 - accuracy: 0.9950 - val_loss: 0.1162 - val_accuracy: 0.9790\n",
      "Epoch 16/3000\n",
      "1000/1000 [==============================] - 5s 5ms/step - loss: 0.0199 - accuracy: 0.9966 - val_loss: 0.1238 - val_accuracy: 0.9802\n",
      "Epoch 17/3000\n",
      "1000/1000 [==============================] - 4s 4ms/step - loss: 0.0086 - accuracy: 0.9986 - val_loss: 0.1143 - val_accuracy: 0.9842\n",
      "Epoch 18/3000\n",
      "1000/1000 [==============================] - 4s 4ms/step - loss: 0.0195 - accuracy: 0.9960 - val_loss: 0.1218 - val_accuracy: 0.9814\n",
      "Epoch 19/3000\n",
      "1000/1000 [==============================] - 5s 5ms/step - loss: 0.0157 - accuracy: 0.9957 - val_loss: 0.1844 - val_accuracy: 0.9740\n",
      "Epoch 20/3000\n",
      "1000/1000 [==============================] - 5s 5ms/step - loss: 0.0165 - accuracy: 0.9959 - val_loss: 0.1352 - val_accuracy: 0.9794\n",
      "Epoch 21/3000\n",
      "1000/1000 [==============================] - 4s 4ms/step - loss: 0.0113 - accuracy: 0.9969 - val_loss: 0.1937 - val_accuracy: 0.9748\n",
      "Epoch 22/3000\n",
      "1000/1000 [==============================] - 5s 5ms/step - loss: 0.0071 - accuracy: 0.9984 - val_loss: 0.1513 - val_accuracy: 0.9782\n",
      "Epoch 23/3000\n",
      "1000/1000 [==============================] - 4s 4ms/step - loss: 0.0278 - accuracy: 0.9947 - val_loss: 0.1671 - val_accuracy: 0.9752\n",
      "Epoch 24/3000\n",
      "1000/1000 [==============================] - 4s 4ms/step - loss: 0.0059 - accuracy: 0.9979 - val_loss: 0.1852 - val_accuracy: 0.9738\n",
      "Epoch 25/3000\n",
      "1000/1000 [==============================] - 4s 4ms/step - loss: 0.0077 - accuracy: 0.9980 - val_loss: 0.1919 - val_accuracy: 0.9750\n",
      "Epoch 26/3000\n",
      "1000/1000 [==============================] - 4s 4ms/step - loss: 0.0130 - accuracy: 0.9966 - val_loss: 0.1797 - val_accuracy: 0.9774\n",
      "Epoch 27/3000\n",
      "1000/1000 [==============================] - 6s 6ms/step - loss: 0.0153 - accuracy: 0.9965 - val_loss: 0.1523 - val_accuracy: 0.9784\n",
      "Epoch 28/3000\n",
      "1000/1000 [==============================] - 5s 5ms/step - loss: 9.3516e-04 - accuracy: 0.9996 - val_loss: 0.1736 - val_accuracy: 0.9762\n",
      "Epoch 29/3000\n",
      "1000/1000 [==============================] - 5s 5ms/step - loss: 0.0180 - accuracy: 0.9960 - val_loss: 0.1850 - val_accuracy: 0.9768\n",
      "Epoch 30/3000\n",
      "1000/1000 [==============================] - 4s 4ms/step - loss: 0.0182 - accuracy: 0.9974 - val_loss: 0.2046 - val_accuracy: 0.9774\n",
      "Epoch 31/3000\n",
      "1000/1000 [==============================] - 4s 4ms/step - loss: 0.0314 - accuracy: 0.9945 - val_loss: 0.2430 - val_accuracy: 0.9708\n",
      "Epoch 32/3000\n",
      "1000/1000 [==============================] - 5s 4ms/step - loss: 0.0192 - accuracy: 0.9966 - val_loss: 0.2236 - val_accuracy: 0.9740\n"
     ]
    }
   ],
   "source": [
    "from keras.callbacks import EarlyStopping\n",
    "\n",
    "early_stopping = EarlyStopping(patience=30, monitor='val_loss')\n",
    "\n",
    "hiist = m.fit(X_train, y_train, epochs=3000, batch_size=10, \n",
    "              validation_data=(X_val, y_val), callbacks=[early_stopping])"
   ]
  },
  {
   "cell_type": "code",
   "execution_count": 35,
   "id": "9dae73e3",
   "metadata": {},
   "outputs": [
    {
     "data": {
      "image/png": "[encoded data removed]",
      "text/plain": [
       "<Figure size 432x288 with 2 Axes>"
      ]
     },
     "metadata": {
      "needs_background": "light"
     },
     "output_type": "display_data"
    }
   ],
   "source": [
    "# 5. 모델 학습 과정 표시하기\n",
    "%matplotlib inline\n",
    "import matplotlib.pyplot as plt\n",
    "\n",
    "fig, loss_ax = plt.subplots()\n",
    "\n",
    "acc_ax = loss_ax.twinx()\n",
    "\n",
    "loss_ax.plot(hiist.history['loss'], 'y', label='train loss')\n",
    "loss_ax.plot(hiist.history['val_loss'], 'r', label='val loss')\n",
    "\n",
    "acc_ax.plot(hiist.history['accuracy'], 'b', label='train acc')\n",
    "acc_ax.plot(hiist.history['val_accuracy'], 'g', label='val acc')\n",
    "\n",
    "loss_ax.set_xlabel('epoch')\n",
    "loss_ax.set_ylabel('loss')\n",
    "acc_ax.set_ylabel('accuray')\n",
    "\n",
    "loss_ax.legend(loc='upper left')\n",
    "acc_ax.legend(loc='lower left')\n",
    "\n",
    "plt.show()"
   ]
  },
  {
   "cell_type": "code",
   "execution_count": null,
   "id": "758884c3",
   "metadata": {},
   "outputs": [],
   "source": []
  }
 ],
 "metadata": {
  "kernelspec": {
   "display_name": "Python 3 (ipykernel)",
   "language": "python",
   "name": "python3"
  },
  "language_info": {
   "codemirror_mode": {
    "name": "ipython",
    "version": 3
   },
   "file_extension": ".py",
   "mimetype": "text/x-python",
   "name": "python",
   "nbconvert_exporter": "python",
   "pygments_lexer": "ipython3",
   "version": "3.8.13"
  }
 },
 "nbformat": 4,
 "nbformat_minor": 5
}
